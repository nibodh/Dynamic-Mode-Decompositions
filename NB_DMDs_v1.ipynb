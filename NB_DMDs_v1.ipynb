{
 "cells": [
  {
   "cell_type": "markdown",
   "metadata": {},
   "source": [
    "# DMD, eDMD, HankelDMD"
   ]
  },
  {
   "cell_type": "markdown",
   "metadata": {},
   "source": [
    "### importing libraries"
   ]
  },
  {
   "cell_type": "code",
   "execution_count": null,
   "metadata": {},
   "outputs": [],
   "source": [
    "import numpy as np\n",
    "from scipy.integrate import odeint\n",
    "import matplotlib.pyplot as plt"
   ]
  },
  {
   "cell_type": "markdown",
   "metadata": {},
   "source": [
    "### Setting parameters"
   ]
  },
  {
   "cell_type": "code",
   "execution_count": null,
   "metadata": {},
   "outputs": [],
   "source": [
    "DMD_type = 'eDMD'\n",
    "step = 'N_step'\n",
    "poly_type = 'Monomials'\n",
    "poly_order = 2\n",
    "\n",
    "system_name = 'Repressilator'\n",
    "num_test = 1\n",
    "\n",
    "dt = 0.05    # time interval for simulation\n",
    "data_trained = 0.2   #ratio of post-transient data shown\n",
    "transient_skip = 40 #Minimum dt for indexing purposes\n",
    "T = 100   #simulation end time\n",
    "\n",
    "t_seen = data_trained*(T - transient_skip) + transient_skip  #calculating training time based on ratio of data shown\n",
    "transient_span = np.arange(0,transient_skip,dt)  #transient time\n",
    "seen_span = np.arange(transient_skip,t_seen,dt)  #training time\n",
    "unseen_span = np.arange(t_seen,T,dt)   #CV time\n",
    "test_span = np.arange(transient_skip,T,dt)  #test time\n",
    "\n",
    "l_transient = len(transient_span)   #transient data length\n",
    "l_seen = len(seen_span)    #training data length\n",
    "l_unseen = len(unseen_span)    #cv data length\n",
    "l_test = len(test_span)  #test data lenght\n",
    "\n",
    "# print(l_transient, l_seen, l_unseen, l_test)"
   ]
  },
  {
   "cell_type": "markdown",
   "metadata": {},
   "source": [
    "### ICs"
   ]
  },
  {
   "cell_type": "code",
   "execution_count": null,
   "metadata": {},
   "outputs": [],
   "source": [
    "import Simulation_Init_conditions  #module with initial conditions for system\n",
    "init = getattr(Simulation_Init_conditions, system_name)  #getting function for specific system\n",
    "IC = init()   #ICs for the model\n",
    "\n",
    "num_states, num_init = IC.shape #number of states, initial conditions\n",
    "num_train = num_init - num_test # 1 test trajectory\n",
    "\n",
    "# print(num_states, num_train, num_test)"
   ]
  },
  {
   "cell_type": "markdown",
   "metadata": {},
   "source": [
    "### Time Series Simulation "
   ]
  },
  {
   "cell_type": "code",
   "execution_count": null,
   "metadata": {},
   "outputs": [],
   "source": [
    "import System_models #module with system models\n",
    "model_to_simulate = getattr(System_models, system_name)  #getting function for specific model\n",
    "\n",
    "training_data = np.zeros([num_states,l_seen,num_train])   #initializing empty arrays\n",
    "cv_data = np.zeros([num_states,l_unseen,num_train])\n",
    "test_data = np.zeros([num_states,l_test,num_test])\n",
    "\n",
    "for i in np.arange(0,num_train):   #looping over number of ICs\n",
    "    transient_data = np.transpose(odeint(model_to_simulate,IC[:,i],transient_span))   #transient part\n",
    "    training_data[:,:,i] = np.transpose(odeint(model_to_simulate,transient_data[:,l_transient-1],seen_span))   #training data\n",
    "    cv_data[:,:,i] = np.transpose(odeint(model_to_simulate,training_data[:,l_seen-1,i],unseen_span))  #cross validation data\n",
    "\n",
    "for i in np.arange(num_train,num_init):\n",
    "    transient_data = np.transpose(odeint(model_to_simulate,IC[:,i],transient_span))   #transient part\n",
    "    test_data[:,:,i-num_train] = np.transpose(odeint(model_to_simulate,transient_data[:,l_transient-1],test_span))   #test_data"
   ]
  },
  {
   "cell_type": "markdown",
   "metadata": {},
   "source": [
    "### Simulation Plots for visualization "
   ]
  },
  {
   "cell_type": "code",
   "execution_count": null,
   "metadata": {},
   "outputs": [],
   "source": [
    "def visualize_simulation(num_IC,t_span,data):\n",
    "    for i in np.arange(0,num_IC):\n",
    "        fig = plt.plot(t_span,np.transpose(data[:,:,i]))\n",
    "        plt.xlabel('time')\n",
    "        plt.ylabel('Concentratrions')\n",
    "        return fig\n",
    "\n",
    "fig_train = visualize_simulation(num_train,seen_span,training_data)"
   ]
  },
  {
   "cell_type": "code",
   "execution_count": null,
   "metadata": {},
   "outputs": [],
   "source": [
    "fig_cv = visualize_simulation(num_train,unseen_span,cv_data)"
   ]
  },
  {
   "cell_type": "code",
   "execution_count": null,
   "metadata": {},
   "outputs": [],
   "source": [
    "fig_test = visualize_simulation(num_test,test_span,test_data)"
   ]
  },
  {
   "cell_type": "markdown",
   "metadata": {},
   "source": [
    "### Data formulations"
   ]
  },
  {
   "cell_type": "code",
   "execution_count": null,
   "metadata": {},
   "outputs": [],
   "source": [
    "import DMD_algorithms #importing DMD algorithms module\n",
    "\n",
    "DMD = getattr(DMD_algorithms, DMD_type) #calling specific DMD algorithm\n",
    "K = DMD(training_data,poly_type,poly_order) #obtaining K approximation\n",
    "\n",
    "import Prediction  #importing one step and N step predictor modules\n",
    "prediction = getattr(Prediction, step)  #calling specific predictor\n",
    "\n",
    "import Observables\n",
    "transformation = getattr(Observables, poly_type)\n",
    "\n",
    "Y_train_est, training_error = prediction(K, transformation(training_data,poly_order))\n",
    "Y_cv_est, cv_error = prediction(K, transformation(cv_data,poly_order))\n",
    "Y_test_est, test_error = prediction(K, transformation(test_data,poly_order))\n",
    "\n",
    "# print(Y_train_est)\n",
    "# print(Y_cv_est)\n",
    "# print(Y_test_est)\n",
    "print(training_error, cv_error, test_error)\n"
   ]
  },
  {
   "cell_type": "code",
   "execution_count": null,
   "metadata": {},
   "outputs": [],
   "source": []
  }
 ],
 "metadata": {
  "kernelspec": {
   "display_name": "Python 3",
   "language": "python",
   "name": "python3"
  },
  "language_info": {
   "codemirror_mode": {
    "name": "ipython",
    "version": 3
   },
   "file_extension": ".py",
   "mimetype": "text/x-python",
   "name": "python",
   "nbconvert_exporter": "python",
   "pygments_lexer": "ipython3",
   "version": "3.6.8"
  }
 },
 "nbformat": 4,
 "nbformat_minor": 2
}
