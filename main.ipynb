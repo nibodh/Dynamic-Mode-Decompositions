{
 "cells": [
  {
   "cell_type": "markdown",
   "metadata": {},
   "source": [
    "# DMD, eDMD, HankelDMD (Analysis not yet ready)"
   ]
  },
  {
   "cell_type": "markdown",
   "metadata": {},
   "source": [
    "### importing libraries"
   ]
  },
  {
   "cell_type": "code",
   "execution_count": null,
   "metadata": {},
   "outputs": [],
   "source": [
    "import numpy as np\n",
    "from scipy.integrate import odeint\n",
    "import matplotlib.pyplot as plt"
   ]
  },
  {
   "cell_type": "markdown",
   "metadata": {},
   "source": [
    "### Setting parameters"
   ]
  },
  {
   "cell_type": "code",
   "execution_count": null,
   "metadata": {},
   "outputs": [],
   "source": [
    "##### %%writefile code_execution_constants.py\n",
    "# ^ is storing global variables to file\n",
    "\n",
    "DMD_type = 'eDMD'  #DMD or eDMD or HankelDMD\n",
    "step = 'N_step'  #Calculates a the system dynamics matrix for one step but can be one_step or N_step prediction\n",
    "basis_type = 'Monomials'  #Monomials, Hermite, Legendre. ###Note, Legendre not used as indicator functions oe=wing to scalability\n",
    "basis_order = 7\n",
    "\n",
    "system_name = 'Duffing' #Glycoscillator 0.3 x [10, 30] L7 or Repressilator 0.2 x [50, 150] H3 or Duffing 1000 x 0.5 x [0:0.25:2.5] M10 vs Test 10\n",
    "num_train = 100\n",
    "num_test = 1  #num of test states in Simulation_Init_conditions.py. More test or training can be added there\n",
    "dt = 0.015 * 1   # time interval for simulation\n",
    "\n",
    "\n",
    "data_trained = 0.01 # * 9  #ratio of post-transient data shown FROM EACH TRAJECTORY - %test PE between 0.13 to 0.17\n",
    "transient_skip = 0 # Time stamp upto which data is not considered for training. Minimum dt for indexing purposes\n",
    "T = 1.5 * 1 #simulation end time\n",
    "\n",
    "#Post-transient results: Monomials2 and Hermite3 for Rerpessilator, Hermite2 for Glycoscillator\n",
    "# 0.17 on T = 100 for Repressilator\n"
   ]
  },
  {
   "cell_type": "markdown",
   "metadata": {},
   "source": [
    "### Derived time series"
   ]
  },
  {
   "cell_type": "code",
   "execution_count": null,
   "metadata": {},
   "outputs": [],
   "source": [
    "#Added 1 to adjust length of time frames so that Hankel matrix can be constructed\n",
    "\n",
    "t_seen = data_trained*(T - transient_skip) + transient_skip  #calculating training time based on ratio of data shown\n",
    "transient_span = np.linspace(0,transient_skip,np.int(1+transient_skip//dt))  #transient time\n",
    "test_span = np.linspace(transient_skip,T,np.int(1+(T-transient_skip)//dt))  #test time\n",
    "seen_last = (np.abs(test_span - t_seen)).argmin();\n",
    "seen_span = test_span[:seen_last+1]  #training time\n",
    "unseen_span = test_span[seen_last:]  #Cross Validation time\n",
    "\n",
    "l_transient = len(transient_span)   #transient data length\n",
    "l_seen = len(seen_span)    #training data length\n",
    "l_unseen = len(unseen_span)    #cross validation data length\n",
    "l_test = len(test_span)  #test data lenght\n",
    "\n",
    "# print(l_transient, l_seen, l_unseen, l_test)\n",
    "\n",
    "#ignore the below message, if error is thrown, check that the seen and unseen lengths give 1 when taken mod 10\n",
    "# print(transient_span, seen_span, unseen_span, test_span)\n"
   ]
  },
  {
   "cell_type": "markdown",
   "metadata": {},
   "source": [
    "### ICs"
   ]
  },
  {
   "cell_type": "code",
   "execution_count": null,
   "metadata": {},
   "outputs": [],
   "source": [
    "import Init_conditions  #module with initial conditions for system\n",
    "init = getattr(Init_conditions, system_name)  #getting function for specific system\n",
    "IC = init(num_train, num_test)   #ICs for the model"
   ]
  },
  {
   "cell_type": "code",
   "execution_count": null,
   "metadata": {},
   "outputs": [],
   "source": [
    "#%%writefile -a code_execution_constants.py\n",
    "# ^ is appending num_states to file\n",
    "\n",
    "num_states, num_init = IC.shape #number of states, initial conditions\n",
    "num_train = num_init - num_test # 1 test trajectory\n",
    "# print(num_states, num_train, num_test)\n"
   ]
  },
  {
   "cell_type": "markdown",
   "metadata": {},
   "source": [
    "### Time Series Simulation "
   ]
  },
  {
   "cell_type": "code",
   "execution_count": null,
   "metadata": {},
   "outputs": [],
   "source": [
    "import System_models #module with system models\n",
    "model_to_simulate = getattr(System_models, system_name)  #getting function for specific model\n",
    "\n",
    "training_data = np.empty([num_states,l_seen,num_train])   #initializing empty arrays for training,\n",
    "cv_data = np.empty([num_states,l_unseen,num_train])    #cross validation and\n",
    "test_data = np.empty([num_states,l_test,num_test])    #test data\n",
    "\n",
    "for i in np.arange(0,num_train):   #looping over number of ICs\n",
    "    transient_data = np.transpose(odeint(model_to_simulate,IC[:,i],transient_span))   #transient part to be removed\n",
    "    training_data[:,:,i] = np.transpose(odeint(model_to_simulate,transient_data[:,l_transient-1],seen_span))   #training data\n",
    "    cv_data[:,:,i] = np.transpose(odeint(model_to_simulate,training_data[:,l_seen-1,i],unseen_span))  #cross validation data\n",
    "\n",
    "for i in np.arange(num_train,num_init):\n",
    "    transient_data = np.transpose(odeint(model_to_simulate,IC[:,i],transient_span))   #transient part to be removed\n",
    "    test_data[:,:,i-num_train] = np.transpose(odeint(model_to_simulate,transient_data[:,l_transient-1],test_span))   #test_data\n",
    "\n",
    "# print(training_data.shape, cv_data.shape, test_data.shape)\n"
   ]
  },
  {
   "cell_type": "markdown",
   "metadata": {},
   "source": [
    "### Simulation Plots for visualization "
   ]
  },
  {
   "cell_type": "code",
   "execution_count": null,
   "metadata": {},
   "outputs": [],
   "source": [
    "def visualize_time_series(num_IC,t_span,data): #function to plot difference in training, cross validation and test data\n",
    "    for i in np.arange(num_IC):\n",
    "        plt.plot(t_span,np.transpose(data[:,:,i]))\n",
    "    plt.xlabel('time')\n",
    "    plt.ylabel('Concentratrions')\n",
    "    f = plt.gcf()\n",
    "    return f\n",
    "\n",
    "def visualize_state_space(num_IC, t_span, data):\n",
    "    for l in np.arange(num_IC):\n",
    "        plt.plot(data[0,:,l],data[1,:,l])\n",
    "    f = plt.gcf()\n",
    "    return f\n",
    "\n",
    "def compare_time_series(num_IC,t_span,sim_data,est_data): #function to plot difference in training, cross validation and test data\n",
    "    for i in np.arange(num_IC):\n",
    "        plt.plot(t_span[1:],np.transpose(sim_data[:,1:,i]))\n",
    "        plt.plot(t_span[1:],np.transpose(est_data[:,:,i]),'--')\n",
    "    plt.xlabel('time')\n",
    "    plt.ylabel('Concentratrions')\n",
    "    f = plt.gcf()\n",
    "    return f"
   ]
  },
  {
   "cell_type": "code",
   "execution_count": null,
   "metadata": {},
   "outputs": [],
   "source": [
    "time_training = visualize_time_series(num_train,seen_span,training_data)\n",
    "time_training.savefig(\"time_training.pdf\", bbox_inches='tight')"
   ]
  },
  {
   "cell_type": "code",
   "execution_count": null,
   "metadata": {},
   "outputs": [],
   "source": [
    "time_cv = visualize_time_series(num_train,unseen_span,cv_data)\n",
    "time_cv.savefig(\"time_cv.pdf\", bbox_inches = 'tight')"
   ]
  },
  {
   "cell_type": "code",
   "execution_count": null,
   "metadata": {},
   "outputs": [],
   "source": [
    "time_test = visualize_time_series(num_test,test_span,test_data)\n",
    "time_test.savefig(\"time_test.pdf\", bbox_inches = 'tight')"
   ]
  },
  {
   "cell_type": "code",
   "execution_count": null,
   "metadata": {},
   "outputs": [],
   "source": [
    "state_training = visualize_state_space(num_train, seen_span, training_data)\n",
    "state_training.savefig(\"state_training.pdf\", bbox_inches = 'tight')\n"
   ]
  },
  {
   "cell_type": "code",
   "execution_count": null,
   "metadata": {},
   "outputs": [],
   "source": [
    "state_cv = visualize_state_space(num_train, unseen_span, cv_data)\n",
    "state_cv.savefig(\"state_cv.pdf\", bbox_inches = 'tight')\n"
   ]
  },
  {
   "cell_type": "code",
   "execution_count": null,
   "metadata": {},
   "outputs": [],
   "source": [
    "state_test = visualize_state_space(num_test, test_span, test_data)\n",
    "state_test.savefig(\"state_test.pdf\", bbox_inches = 'tight')"
   ]
  },
  {
   "cell_type": "markdown",
   "metadata": {},
   "source": [
    "### Koopman operator matrix representation"
   ]
  },
  {
   "cell_type": "code",
   "execution_count": null,
   "metadata": {},
   "outputs": [],
   "source": [
    "if DMD_type == 'DMD':\n",
    "    basis_order = 1\n",
    "\n",
    "import DMD_algorithms #importing DMD algorithms module\n",
    "#print(training_data.shape)\n",
    "DMD = getattr(DMD_algorithms, DMD_type) #calling specific DMD algorithm\n",
    "G, A, K, C = DMD(training_data,basis_type,basis_order) # K approximation using one step estimation\n",
    "print('Size of K = ', K.shape)\n",
    "print('Size of C = ', C.shape)\n",
    "\n",
    "print('Rank of G = ', np.linalg.matrix_rank(G))\n",
    "print('Condition number of G = ', np.linalg.cond(G))\n",
    "print('Rank of A = ', np.linalg.matrix_rank(A))\n",
    "print('Condition number of A = ', np.linalg.cond(A))\n",
    "print('Rank of K = ', np.linalg.matrix_rank(K))\n",
    "print('Condition number of K = ', np.linalg.cond(K))\n",
    "print('Rank of C = ', np.linalg.matrix_rank(C))\n",
    "print('Condition number of C = ', np.linalg.cond(C))\n"
   ]
  },
  {
   "cell_type": "markdown",
   "metadata": {},
   "source": [
    "### Predictions and Error (Not ready for HankelDMD)"
   ]
  },
  {
   "cell_type": "code",
   "execution_count": null,
   "metadata": {},
   "outputs": [],
   "source": [
    "import Prediction  #importing one step and N step predictor modules\n",
    "prediction = getattr(Prediction, step)  #calling specific predictor\n",
    "\n",
    "training_data_est, training_error = prediction(training_data, np.transpose(K), np.transpose(C), basis_type, basis_order) #indicator of minimization using inversion\n",
    "cv_data_est, cv_error = prediction(cv_data, np.transpose(K), np.transpose(C), basis_type, basis_order) #indicator of error on future of trajectories used to train\n",
    "test_data_est, test_error = prediction(test_data, np.transpose(K), np.transpose(C), basis_type, basis_order) #indicator of prediction on unseen initial conditions\n",
    "#Errors only in state\n",
    "# *_data_est is full observables\n",
    "print('Error on used data = ', \"{0:0f}%\".format(training_error *100))\n",
    "print('Error on unused from same trajectories = ', \"{0:0f}%\".format(cv_error *100))\n",
    "print('Error on different trajectories = ', \"{0:0f}%\".format(test_error *100))\n",
    "# print(lifted_training_data_est.shape)\n",
    "# print(cv_data_est.shape)\n",
    "# print(cv_data.shape)\n",
    "# print(test_data_est.shape)\n",
    "# print(test_data.shape)\n",
    "\n",
    "print('Trained trajectories = ', num_train)\n",
    "print('Training horizon = ', l_seen-1)\n",
    "print('Total training data = ', num_train*(l_seen - 1))\n",
    "\n",
    "print('CV trajectories = ', num_train)\n",
    "print('CV horizon = ', l_unseen - 1)\n",
    "print('Total CV data = ', num_train*(l_unseen-1))\n",
    "\n",
    "print('Test trajectories = ', num_test)\n",
    "print('Test horizon = ', l_test - 1)\n",
    "print('Total test data = ', num_test*(l_test - 1))\n"
   ]
  },
  {
   "cell_type": "code",
   "execution_count": null,
   "metadata": {},
   "outputs": [],
   "source": [
    "compare_cv = compare_time_series(num_train,unseen_span,cv_data,cv_data_est)\n",
    "compare_cv.savefig(\"compare_cv.pdf\", bbox_inches = 'tight')"
   ]
  },
  {
   "cell_type": "code",
   "execution_count": null,
   "metadata": {},
   "outputs": [],
   "source": [
    "compare_test = compare_time_series(num_test,test_span,test_data,test_data_est)\n",
    "compare_test.savefig(\"compare_test.pdf\", bbox_inches = 'tight')"
   ]
  }
 ],
 "metadata": {
  "kernelspec": {
   "display_name": "Python 3",
   "language": "python",
   "name": "python3"
  },
  "language_info": {
   "codemirror_mode": {
    "name": "ipython",
    "version": 3
   },
   "file_extension": ".py",
   "mimetype": "text/x-python",
   "name": "python",
   "nbconvert_exporter": "python",
   "pygments_lexer": "ipython3",
   "version": "3.7.7"
  }
 },
 "nbformat": 4,
 "nbformat_minor": 2
}
